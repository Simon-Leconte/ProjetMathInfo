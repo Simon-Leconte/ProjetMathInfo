{
 "cells": [
  {
   "cell_type": "markdown",
   "metadata": {},
   "source": [
    "# Projet Maths-Info"
   ]
  },
  {
   "cell_type": "markdown",
   "metadata": {},
   "source": [
    "## Id-Benaddi Anisse & Leconte Simon"
   ]
  },
  {
   "cell_type": "markdown",
   "metadata": {},
   "source": [
    "## Construction de lignes de niveaux pour une fonction à deux paramètres"
   ]
  },
  {
   "cell_type": "markdown",
   "metadata": {},
   "source": [
    "On prend f une fonction définie dans le carré unité $[0,1]^2$ et on limite dans un premier temps notre recherche aux lignes de niveau qui possèdent un point sur l'arête gauche du domaine de définition."
   ]
  },
  {
   "cell_type": "markdown",
   "metadata": {},
   "source": [
    "### Amorce"
   ]
  },
  {
   "cell_type": "markdown",
   "metadata": {},
   "source": [
    "À quelle condition raisonnable portant sur $f(0,0)$ et $f(0,1)$ et le réel $c$ est-on certain qu'il existe $t \\in [0,1]$ tel que $f(0,t)=c$ ?"
   ]
  },
  {
   "cell_type": "markdown",
   "metadata": {},
   "source": [
    "Pour des fonctions continues, $f(0,0) \\leq c \\leq f(0,1)$ ou $f(0,1) \\leq c \\leq f(0,0)$ est une hypothèse suffisante, bien que non nécessaire. Elle peut sembler à priori contraignante, mais la division de la zone d'étude en de suffisamment petites zones nous permet d'avoir cette condition vérifiée, sous réserve de comportements non extrêmes."
   ]
  },
  {
   "cell_type": "markdown",
   "metadata": {},
   "source": [
    "#### Implémentation d'une fonction renvoyant un flottant éloigné d'au plus eps d'un tel t ou None si la condition évoquée ci-dessus n'est pas satisfaite"
   ]
  },
  {
   "cell_type": "code",
   "execution_count": 4,
   "metadata": {},
   "outputs": [],
   "source": [
    "import autograd\n",
    "from autograd import numpy as np\n",
    "import math\n",
    "import matplotlib.pyplot as plt"
   ]
  },
  {
   "cell_type": "code",
   "execution_count": 5,
   "metadata": {},
   "outputs": [],
   "source": [
    "def find_seed(g,c=0.0,eps=2**(-26)):\n",
    "    a=0.0\n",
    "    b=1.0\n",
    "    if not(g(0,b)<c<g(0,a) or g(0,a)<c<g(0,b)):\n",
    "        return None\n",
    "    while abs(a-b)>eps:\n",
    "        milieu = (a+b)/2\n",
    "        if (g(0.0,milieu)<c) ^ (g(0,b)<g(0,a)):\n",
    "            a=milieu\n",
    "        else:\n",
    "            b=milieu\n",
    "    t=a\n",
    "    return t"
   ]
  },
  {
   "cell_type": "code",
   "execution_count": 6,
   "metadata": {},
   "outputs": [
    {
     "data": {
      "text/plain": [
       "0.31415925920009613"
      ]
     },
     "execution_count": 6,
     "metadata": {},
     "output_type": "execute_result"
    }
   ],
   "source": [
    "#Test\n",
    "def g(x,y):\n",
    "    return y\n",
    "find_seed(g,0.31415926)"
   ]
  },
  {
   "cell_type": "markdown",
   "metadata": {},
   "source": [
    "### Propagation"
   ]
  },
  {
   "cell_type": "markdown",
   "metadata": {},
   "source": [
    "Nous savons désormais trouver un point de départ pour notre tracé, il s'agit maintenant de prolonger ce tracé jusqu'à la sortie de l'espace délimité."
   ]
  },
  {
   "cell_type": "markdown",
   "metadata": {},
   "source": [
    "Nous utiliserons une méthode à base de gradient. Nous prolongerons le tracé en ligne droite dans la direction normale au gradient, opposée au début du tracé. Nous partirons nécessairement vers les $x$ croissants à la première étape, puis nous utiliserons un vecteur reliant le point à peine trouvé au point précédent. Le signe du produit vectoriel nous indique la direction à suivre."
   ]
  },
  {
   "cell_type": "code",
   "execution_count": 7,
   "metadata": {},
   "outputs": [],
   "source": [
    "def delta_normalisation(l,delta):\n",
    "    \"\"\" Cette fonction prend en paramètre un gradient, et modifie sa norme de\n",
    "    telle sorte qu'elle vaille delta en sortie \"\"\"\n",
    "    norme = np.sqrt(l[0]**2+l[1]**2)\n",
    "    return l*delta/norme\n",
    "def grad(f,x,y):\n",
    "    \"\"\"Cette fonction renvoit le gradient de f en (x,y)\"\"\"\n",
    "    g=autograd.grad\n",
    "    return np.r_[g(f,0)(x,y),g(f,1)(x,y)]\n",
    "def simple_contour(f,c=0.0,delta = 0.01,eps = 2**(-26)):\n",
    "    \"\"\" Entrée :\n",
    "    Une fonction à deux paramètres réels à valeurs réelles : f\n",
    "    Une valeur de ligne de niveau : c\n",
    "    Un pas de propagation : delta\n",
    "    Une précision pour la valeur initiale : eps\n",
    "\n",
    "    Sortie :\n",
    "    Deux listes de coordonnées des abscisses et des ordonnées de la ligne de\n",
    "    niveau égale à c\"\"\"\n",
    "    #Initialisation du tracé avec find_seed\n",
    "    x0 = 0.0\n",
    "    y0 = find_seed(f,c,eps)\n",
    "    print(y0)\n",
    "    if y0==None:\n",
    "        return [],[]\n",
    "    tabX = [x0]\n",
    "    tabY = [y0]\n",
    "    #Première étape, nécessairement vers les x croissants\n",
    "    #Calcul du gradient\n",
    "    gradient = grad(f,x0,y0)\n",
    "    grad_utile = delta_normalisation(gradient,delta)\n",
    "    # Il faut distinguer le cas grad_utile[1]>0 et le cas grad_utile[1]<0 pour\n",
    "    # savoir quelle normale au gradient choisir\n",
    "    b = grad_utile[1]\n",
    "    a = grad_utile[0]\n",
    "    if b>0:\n",
    "        tabX.append(x0+b)\n",
    "        tabY.append(y0-a)\n",
    "    else:\n",
    "        tabX.append(x0-b)\n",
    "        tabY.append(y0+a)\n",
    "    #La première étape est terminée\n",
    "    #Tant que l'on est encore dans la case [0,1]², on continue à prolonger\n",
    "    while 0<=tabX[-1]<=1 and 0<=tabY[-1]<=1:\n",
    "        #On commence par calculer le gradient normalisé au dernier point\n",
    "        gradient = grad(f,tabX[-1],tabY[-1])\n",
    "        grad_utile = delta_normalisation(gradient,delta)\n",
    "        b = grad_utile[1]\n",
    "        a = grad_utile[0]\n",
    "        deplacementPrecedent = (tabX[-2]-tabX[-1],tabY[-2]-tabY[-1])\n",
    "        #On calcule le produit vectoriel entre le déplacement précédent et le\n",
    "        #gradient actuel pour déterminer la direction de déplacement à l'étape\n",
    "        #suivante\n",
    "        vectoriel = deplacementPrecedent[0]*b-deplacementPrecedent[1]*a\n",
    "        #Selon le signe du produit vectoriel, on détermine quelle normale au\n",
    "        #gradient choisir\n",
    "        if vectoriel > 0:\n",
    "            tabX.append(tabX[-1]-b)\n",
    "            tabY.append(tabY[-1]+a)\n",
    "        else:\n",
    "            tabX.append(tabX[-1]+b)\n",
    "            tabY.append(tabY[-1]-a)\n",
    "    return tabX,tabY"
   ]
  },
  {
   "cell_type": "markdown",
   "metadata": {},
   "source": [
    "Testons cet algorithme à l'aide de différentes fonctions"
   ]
  },
  {
   "cell_type": "code",
   "execution_count": 12,
   "metadata": {},
   "outputs": [
    {
     "name": "stdout",
     "output_type": "stream",
     "text": [
      "0.9486832916736603\n"
     ]
    },
    {
     "data": {
      "image/png": "[encoded data removed]",
      "text/plain": [
       "<Figure size 432x288 with 1 Axes>"
      ]
     },
     "metadata": {
      "needs_background": "light"
     },
     "output_type": "display_data"
    }
   ],
   "source": [
    "def f(x,y):\n",
    "    return x**2+y**2\n",
    "x,y=simple_contour(f,c=0.9)\n",
    "plt.clf()\n",
    "plt.plot(x,y)\n",
    "plt.show()"
   ]
  },
  {
   "cell_type": "code",
   "execution_count": 9,
   "metadata": {},
   "outputs": [
    {
     "name": "stdout",
     "output_type": "stream",
     "text": [
      "0.9071067720651627\n"
     ]
    },
    {
     "data": {
      "image/png": "[encoded data removed]",
      "text/plain": [
       "<Figure size 432x288 with 1 Axes>"
      ]
     },
     "metadata": {
      "needs_background": "light"
     },
     "output_type": "display_data"
    }
   ],
   "source": [
    "def f(x,y):\n",
    "    return x**2+(y-0.2)**2\n",
    "x,y=simple_contour(f,c=0.5)\n",
    "plt.clf()\n",
    "plt.plot(x,y)\n",
    "plt.show()"
   ]
  },
  {
   "cell_type": "code",
   "execution_count": 10,
   "metadata": {},
   "outputs": [
    {
     "name": "stdout",
     "output_type": "stream",
     "text": [
      "0.4999999850988388\n"
     ]
    },
    {
     "data": {
      "image/png": "[encoded data removed]",
      "text/plain": [
       "<Figure size 432x288 with 1 Axes>"
      ]
     },
     "metadata": {
      "needs_background": "light"
     },
     "output_type": "display_data"
    }
   ],
   "source": [
    "def f(x,y):\n",
    "    return x+y\n",
    "x,y=simple_contour(f,c=0.5)\n",
    "plt.clf()\n",
    "plt.plot(x,y)\n",
    "plt.show()"
   ]
  },
  {
   "cell_type": "markdown",
   "metadata": {},
   "source": [
    "Le principal défaut de cette fonction est qu'elle accumule les erreurs, étape après étape. Il faudra donc veiller dans la partie suivante à utiliser de nouveau la méthode de dichotomie de find_seed à chaque nouvelle case. Nous n'accumulerons de cette façon pas l'erreur sur tout le tracé du graphe, mais seulement sur une petite case, que l'on pourra rendre aussi petite que nécessaire. "
   ]
  },
  {
   "cell_type": "markdown",
   "metadata": {},
   "source": [
    "### Contour complexe"
   ]
  },
  {
   "cell_type": "code",
   "execution_count": null,
   "metadata": {},
   "outputs": [],
   "source": []
  }
 ],
 "metadata": {
  "kernelspec": {
   "display_name": "Python 3",
   "language": "python",
   "name": "python3"
  },
  "language_info": {
   "codemirror_mode": {
    "name": "ipython",
    "version": 3
   },
   "file_extension": ".py",
   "mimetype": "text/x-python",
   "name": "python",
   "nbconvert_exporter": "python",
   "pygments_lexer": "ipython3",
   "version": "3.7.3"
  }
 },
 "nbformat": 4,
 "nbformat_minor": 2
}
