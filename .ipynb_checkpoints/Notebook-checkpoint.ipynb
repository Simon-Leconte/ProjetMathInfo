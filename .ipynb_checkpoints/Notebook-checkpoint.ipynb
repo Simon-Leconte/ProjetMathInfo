{
 "cells": [
  {
   "cell_type": "markdown",
   "metadata": {},
   "source": [
    "# Projet Maths-Info"
   ]
  },
  {
   "cell_type": "markdown",
   "metadata": {},
   "source": [
    "## Id-Benaddi Anisse & Leconte Simon"
   ]
  },
  {
   "cell_type": "markdown",
   "metadata": {},
   "source": [
    "## Construction de lignes de niveaux pour une fonction à deux paramètres"
   ]
  },
  {
   "cell_type": "markdown",
   "metadata": {},
   "source": [
    "On prend f une fonction définie dans le carré unité $[0,1]^2$ et on limite dans un premier temps notre recherche aux lignes de niveau qui possèdent un point sur l'arête gauche du domaine de définition."
   ]
  },
  {
   "cell_type": "markdown",
   "metadata": {},
   "source": [
    "### Amorce"
   ]
  },
  {
   "cell_type": "markdown",
   "metadata": {},
   "source": [
    "À quelle condition raisonnable portant sur $f(0,0)$ et $f(0,1)$ et le réel $c$ est-on certain qu'il existe $t \\in [0,1]$ tel que $f(0,t)=c$ ?"
   ]
  },
  {
   "cell_type": "markdown",
   "metadata": {},
   "source": [
    "Proposition : $f(0,0) \\leq c \\leq f(0,1)$ ou $f(0,1) \\leq c \\leq f(0,0)$"
   ]
  },
  {
   "cell_type": "markdown",
   "metadata": {},
   "source": [
    "#### Implémentation d'une fonction renvoyant un flottant éloigné d'au plus eps d'un tel t ou None si la condition évoquée ci-dessus n'est pas satisfaite"
   ]
  },
  {
   "cell_type": "code",
   "execution_count": 1,
   "metadata": {},
   "outputs": [],
   "source": [
    "import autograd\n",
    "from autograd import numpy as np\n",
    "import math"
   ]
  },
  {
   "cell_type": "code",
   "execution_count": 8,
   "metadata": {},
   "outputs": [],
   "source": [
    "def find_seed(g,c=0.0,eps=2**(-26)):\n",
    "    a=0.0\n",
    "    b=1.0\n",
    "    if c<g(0,a) or g(0,b)<c :\n",
    "        return None\n",
    "    while abs(a-b)>eps:\n",
    "        milieu = (a+b)/2\n",
    "        if (g(0.0,milieu)<c) ^ (g(0,b)<g(0,a)):\n",
    "            a=milieu\n",
    "        else:\n",
    "            b=milieu\n",
    "    t=a\n",
    "    return t"
   ]
  },
  {
   "cell_type": "code",
   "execution_count": 9,
   "metadata": {},
   "outputs": [
    {
     "data": {
      "text/plain": [
       "0.31415925920009613"
      ]
     },
     "execution_count": 9,
     "metadata": {},
     "output_type": "execute_result"
    }
   ],
   "source": [
    "#Test\n",
    "def g(x,y):\n",
    "    return y\n",
    "find_seed(g,0.31415926)"
   ]
  },
  {
   "cell_type": "markdown",
   "metadata": {},
   "source": [
    "### Propagation"
   ]
  },
  {
   "cell_type": "code",
   "execution_count": null,
   "metadata": {},
   "outputs": [],
   "source": []
  }
 ],
 "metadata": {
  "kernelspec": {
   "display_name": "Python 3",
   "language": "python",
   "name": "python3"
  },
  "language_info": {
   "codemirror_mode": {
    "name": "ipython",
    "version": 3
   },
   "file_extension": ".py",
   "mimetype": "text/x-python",
   "name": "python",
   "nbconvert_exporter": "python",
   "pygments_lexer": "ipython3",
   "version": "3.7.3"
  }
 },
 "nbformat": 4,
 "nbformat_minor": 2
}
